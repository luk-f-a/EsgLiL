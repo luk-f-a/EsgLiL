{
 "cells": [
  {
   "cell_type": "code",
   "execution_count": 1,
   "metadata": {
    "collapsed": false
   },
   "outputs": [
    {
     "name": "stderr",
     "output_type": "stream",
     "text": [
      "/home/lucio/anaconda3/envs/Python3.6_latest_versions/lib/python3.6/importlib/_bootstrap.py:205: RuntimeWarning: compiletime version 3.5 of module 'tensorflow.python.framework.fast_tensor_util' does not match runtime version 3.6\n",
      "  return f(*args, **kwds)\n"
     ]
    }
   ],
   "source": [
    "import tensorflow as tf\n",
    "import numpy as np"
   ]
  },
  {
   "cell_type": "code",
   "execution_count": 8,
   "metadata": {
    "collapsed": false
   },
   "outputs": [
    {
     "name": "stdout",
     "output_type": "stream",
     "text": [
      "[[ 1.14153576 -1.47401798 -3.46384096]\n",
      " [-1.49624348 -5.0458889  -2.27493286]]\n"
     ]
    }
   ],
   "source": [
    "# Create a tensor of shape [2, 3] consisting of random normal values, with mean\n",
    "# -1 and standard deviation 4.\n",
    "norm = tf.random_normal([2, 3], mean=-1, stddev=4)\n",
    "\n",
    "\n",
    "# Each time we run these ops, different results are generated\n",
    "sess = tf.Session()\n",
    "print(sess.run(norm))\n"
   ]
  },
  {
   "cell_type": "code",
   "execution_count": 41,
   "metadata": {
    "collapsed": false
   },
   "outputs": [],
   "source": [
    "# Initial Conditions -- some rain drops hit a pond\n",
    "N = 1000\n",
    "# Set everything to zero\n",
    "u_init = np.zeros([N], dtype=np.float32)\n",
    "ut_init = np.zeros([N], dtype=np.float32)\n",
    "\n"
   ]
  },
  {
   "cell_type": "code",
   "execution_count": 42,
   "metadata": {
    "collapsed": false
   },
   "outputs": [],
   "source": [
    "# Parameters:\n",
    "sigma = tf.placeholder(tf.float32, shape=())\n",
    "\n",
    "# Create variables for simulation state\n",
    "r  = tf.Variable(u_init)\n",
    "delta_r = tf.Variable(ut_init)\n",
    "\n",
    "# Discretized PDE update rules\n",
    "r_ = r + delta_r\n",
    "delta_r_ = tf.random_normal([N], mean=1, stddev=4)*sigma\n",
    "\n",
    "# Operation to update the state\n",
    "step = tf.group(\n",
    "  r.assign(r_),\n",
    "  delta_r.assign(delta_r_))"
   ]
  },
  {
   "cell_type": "code",
   "execution_count": 46,
   "metadata": {
    "collapsed": false
   },
   "outputs": [
    {
     "name": "stdout",
     "output_type": "stream",
     "text": [
      "(1000,)\n",
      "CPU times: user 10.1 s, sys: 584 ms, total: 10.7 s\n",
      "Wall time: 6.64 s\n"
     ]
    }
   ],
   "source": [
    "%%time\n",
    "sess = tf.InteractiveSession()\n",
    "# Initialize state to initial conditions\n",
    "tf.global_variables_initializer().run()\n",
    "\n",
    "# Run 1000 steps of PDE\n",
    "\n",
    "for i in range(40000):\n",
    "# Step simulation\n",
    "    step.run({sigma: 0.03})\n",
    "print(r.eval().shape)"
   ]
  },
  {
   "cell_type": "code",
   "execution_count": 48,
   "metadata": {
    "collapsed": false
   },
   "outputs": [
    {
     "name": "stdout",
     "output_type": "stream",
     "text": [
      "(1000,)\n",
      "CPU times: user 132 ms, sys: 0 ns, total: 132 ms\n",
      "Wall time: 133 ms\n"
     ]
    }
   ],
   "source": [
    "%%time\n",
    "r = np.zeros(1000)\n",
    "for i in range(40000):\n",
    "# Step simulation\n",
    "    r = r + np.random.normal(1000)\n",
    "print(r.shape)"
   ]
  },
  {
   "cell_type": "markdown",
   "metadata": {},
   "source": [
    "# Internal loop"
   ]
  },
  {
   "cell_type": "code",
   "execution_count": 35,
   "metadata": {
    "collapsed": false
   },
   "outputs": [],
   "source": [
    "jit_scope = tf.contrib.compiler.jit.experimental_jit_scope\n",
    "\n",
    "i = tf.constant(0)\n",
    "k = tf.constant(np.zeros((1000)))\n",
    "i_k = (i,k)\n",
    "\n",
    "with jit_scope():\n",
    "    c = lambda i, k: i<40000\n",
    "    norm = tf.random_normal([1000], mean=0, stddev=2, dtype=tf.float64)\n",
    "    b = lambda i,k:(i+1, k+norm**2)\n",
    "_,r = tf.while_loop(c, b, i_k)"
   ]
  },
  {
   "cell_type": "code",
   "execution_count": 37,
   "metadata": {
    "collapsed": false
   },
   "outputs": [
    {
     "name": "stdout",
     "output_type": "stream",
     "text": [
      "(1000,)\n",
      "CPU times: user 1.09 s, sys: 164 ms, total: 1.26 s\n",
      "Wall time: 398 ms\n"
     ]
    }
   ],
   "source": [
    "%%time\n",
    "# Config to turn on JIT compilation\n",
    "config = tf.ConfigProto()\n",
    "config.graph_options.optimizer_options.global_jit_level = tf.OptimizerOptions.ON_1\n",
    "\n",
    "sess = tf.Session(config=config)\n",
    "#sess = tf.Session()\n",
    "# Initialize state to initial conditions\n",
    "out = sess.run(r)\n",
    "#     tf.global_variables_initializer().run()\n",
    "     \n",
    "print(out.shape)"
   ]
  },
  {
   "cell_type": "code",
   "execution_count": null,
   "metadata": {
    "collapsed": true
   },
   "outputs": [],
   "source": []
  }
 ],
 "metadata": {
  "kernelspec": {
   "display_name": "Python [conda env:Python3.6_latest_versions]",
   "language": "python",
   "name": "conda-env-Python3.6_latest_versions-py"
  },
  "language_info": {
   "codemirror_mode": {
    "name": "ipython",
    "version": 3
   },
   "file_extension": ".py",
   "mimetype": "text/x-python",
   "name": "python",
   "nbconvert_exporter": "python",
   "pygments_lexer": "ipython3",
   "version": "3.6.1"
  }
 },
 "nbformat": 4,
 "nbformat_minor": 1
}
