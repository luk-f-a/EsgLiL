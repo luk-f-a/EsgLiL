{
 "cells": [
  {
   "cell_type": "code",
   "execution_count": 1,
   "metadata": {
    "collapsed": true
   },
   "outputs": [],
   "source": [
    "import theano as th\n",
    "import theano.tensor as T\n",
    "from theano import function"
   ]
  },
  {
   "cell_type": "code",
   "execution_count": 2,
   "metadata": {
    "collapsed": true
   },
   "outputs": [],
   "source": [
    "import numpy as np"
   ]
  },
  {
   "cell_type": "code",
   "execution_count": null,
   "metadata": {
    "collapsed": false
   },
   "outputs": [],
   "source": [
    "x = T.dvector()\n",
    "y = T.dscalar()\n",
    "z = x*y  \n",
    "f = function([x, y], z)"
   ]
  },
  {
   "cell_type": "code",
   "execution_count": null,
   "metadata": {
    "collapsed": false
   },
   "outputs": [],
   "source": [
    "f(np.ones(10000),2)"
   ]
  },
  {
   "cell_type": "code",
   "execution_count": null,
   "metadata": {
    "collapsed": false
   },
   "outputs": [],
   "source": [
    "output, updates = th.scan(fn=lambda x, y : x * y,\n",
    "                              sequences=[x], non_sequences=[y])\n",
    "\n",
    "f = th.function(inputs=[x, y],\n",
    "                    outputs=output,\n",
    "                    updates=updates)"
   ]
  },
  {
   "cell_type": "code",
   "execution_count": null,
   "metadata": {
    "collapsed": false
   },
   "outputs": [],
   "source": [
    "f(np.ones(10000),3)"
   ]
  },
  {
   "cell_type": "code",
   "execution_count": null,
   "metadata": {
    "collapsed": false
   },
   "outputs": [],
   "source": [
    "srng = T.shared_randomstreams.RandomStreams(seed=234)\n",
    "rv_n = srng.normal((2,5), avg=0.1, std=1.0)\n",
    "\n",
    "g = th.function([], rv_n)    #Not updating rv_n.rng\n",
    "g()"
   ]
  },
  {
   "cell_type": "code",
   "execution_count": null,
   "metadata": {
    "collapsed": false
   },
   "outputs": [],
   "source": [
    "rv_n = srng.normal((2,5000), avg=1.0, std=1.0)\n",
    "\n",
    "output, updates = th.scan(fn=lambda  rv_n, z : z + rv_n ,\n",
    "                              sequences=[rv_n],\n",
    "                              outputs_info=[z])\n",
    "\n",
    "f = th.function(inputs=[z],\n",
    "                    outputs=output,\n",
    "                    updates=updates)\n",
    "out = f(np.zeros((1,5000)))\n",
    "print(out.shape)\n",
    "print(out.mean(axis=-1))"
   ]
  },
  {
   "cell_type": "code",
   "execution_count": null,
   "metadata": {
    "collapsed": false
   },
   "outputs": [],
   "source": []
  },
  {
   "cell_type": "code",
   "execution_count": null,
   "metadata": {
    "collapsed": false
   },
   "outputs": [],
   "source": [
    "rv_n = srng.normal((2,5000), avg=0.0, std=1.0)\n",
    "k = T.dscalar()\n",
    "z = T.dvector('z')\n",
    "output, updates = th.scan(fn=lambda  rv_n,k, z : z + rv_n +0*k,\n",
    "                              sequences=[rv_n], non_sequences=[k], \n",
    "                              outputs_info=[z])\n",
    "\n",
    "f = th.function(inputs=[k, z],\n",
    "                    outputs=output,\n",
    "                    updates=updates)\n",
    "out = f(2.0, np.zeros((5000)))\n",
    "print(out.shape)\n",
    "print(out.mean(axis=-1))"
   ]
  },
  {
   "cell_type": "code",
   "execution_count": null,
   "metadata": {
    "collapsed": false
   },
   "outputs": [],
   "source": [
    "rv_n = srng.normal((40000,1000), avg=0.0, std=1.0)\n",
    "k = T.dscalar('k')\n",
    "z = T.dmatrix('z')\n",
    "output, updates = th.scan(fn=lambda  rv_n,k, z : z + rv_n * k,\n",
    "                              sequences=[rv_n], non_sequences=[k], \n",
    "                              outputs_info=[z])\n",
    "\n",
    "f = th.function(inputs=[k, z],\n",
    "                    outputs=output,\n",
    "                    updates=updates)\n"
   ]
  },
  {
   "cell_type": "code",
   "execution_count": null,
   "metadata": {
    "collapsed": false
   },
   "outputs": [],
   "source": [
    "%%time\n",
    "f(1, np.zeros((1,1000))).shape"
   ]
  },
  {
   "cell_type": "code",
   "execution_count": null,
   "metadata": {
    "collapsed": false
   },
   "outputs": [],
   "source": [
    "import sys \n",
    "sys.setrecursionlimit(50000)\n",
    "\n",
    "\n",
    "k = T.dscalar('k')\n",
    "z = T.dmatrix('z')\n",
    "r = z + k\n",
    "for _ in range(40000):\n",
    "    #rv_n = srng.normal(size=(1,1000), avg=0.0, std=1.0)\n",
    "    r = r + k\n",
    "f = th.function(inputs=[k, z], outputs=r)"
   ]
  },
  {
   "cell_type": "code",
   "execution_count": null,
   "metadata": {
    "collapsed": false
   },
   "outputs": [],
   "source": [
    "%%time\n",
    "f(1, np.zeros((1,1000))).shape"
   ]
  },
  {
   "cell_type": "code",
   "execution_count": null,
   "metadata": {
    "collapsed": true
   },
   "outputs": [],
   "source": []
  },
  {
   "cell_type": "code",
   "execution_count": null,
   "metadata": {
    "collapsed": false
   },
   "outputs": [],
   "source": [
    "%%time\n",
    "r = np.zeros(1000)\n",
    "for i in range(40000):\n",
    "# Step simulation\n",
    "    r = r + np.random.normal(1000)\n",
    "print(r.shape)"
   ]
  },
  {
   "cell_type": "code",
   "execution_count": null,
   "metadata": {
    "collapsed": true
   },
   "outputs": [],
   "source": []
  }
 ],
 "metadata": {
  "kernelspec": {
   "display_name": "Python [conda env:Python3.6_latest_versions]",
   "language": "python",
   "name": "conda-env-Python3.6_latest_versions-py"
  },
  "language_info": {
   "codemirror_mode": {
    "name": "ipython",
    "version": 3
   },
   "file_extension": ".py",
   "mimetype": "text/x-python",
   "name": "python",
   "nbconvert_exporter": "python",
   "pygments_lexer": "ipython3",
   "version": "3.6.1"
  }
 },
 "nbformat": 4,
 "nbformat_minor": 1
}
